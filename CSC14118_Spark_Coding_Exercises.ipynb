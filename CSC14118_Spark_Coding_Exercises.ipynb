{
  "cells": [
    {
      "cell_type": "markdown",
      "metadata": {
        "id": "view-in-github",
        "colab_type": "text"
      },
      "source": [
        "<a href=\"https://colab.research.google.com/github/minhminh2703/LTKHDL/blob/main/CSC14118_Spark_Coding_Exercises.ipynb\" target=\"_parent\"><img src=\"https://colab.research.google.com/assets/colab-badge.svg\" alt=\"Open In Colab\"/></a>"
      ]
    },
    {
      "cell_type": "markdown",
      "metadata": {
        "id": "epfrvqOy0XbK"
      },
      "source": [
        "# Install Java and Spark on Hadoop"
      ]
    },
    {
      "cell_type": "code",
      "execution_count": null,
      "metadata": {
        "colab": {
          "base_uri": "https://localhost:8080/"
        },
        "id": "Pf3zOXQkRf0l",
        "outputId": "5103934f-834b-4da5-e693-90346bd5527d"
      },
      "outputs": [
        {
          "output_type": "stream",
          "name": "stdout",
          "text": [
            "\r0% [Working]\r            \rGet:1 https://cloud.r-project.org/bin/linux/ubuntu jammy-cran40/ InRelease [3,626 B]\n",
            "Get:2 https://developer.download.nvidia.com/compute/cuda/repos/ubuntu2204/x86_64  InRelease [1,581 B]\n",
            "Hit:3 http://archive.ubuntu.com/ubuntu jammy InRelease\n",
            "Get:4 http://archive.ubuntu.com/ubuntu jammy-updates InRelease [119 kB]\n",
            "Get:5 https://developer.download.nvidia.com/compute/cuda/repos/ubuntu2204/x86_64  Packages [773 kB]\n",
            "Hit:6 http://archive.ubuntu.com/ubuntu jammy-backports InRelease\n",
            "Get:7 http://archive.ubuntu.com/ubuntu jammy-updates/universe amd64 Packages [1,356 kB]\n",
            "Get:8 http://archive.ubuntu.com/ubuntu jammy-updates/main amd64 Packages [1,898 kB]\n",
            "Get:9 http://security.ubuntu.com/ubuntu jammy-security InRelease [110 kB]\n",
            "Hit:10 https://ppa.launchpadcontent.net/c2d4u.team/c2d4u4.0+/ubuntu jammy InRelease\n",
            "Hit:11 https://ppa.launchpadcontent.net/deadsnakes/ppa/ubuntu jammy InRelease\n",
            "Hit:12 https://ppa.launchpadcontent.net/graphics-drivers/ppa/ubuntu jammy InRelease\n",
            "Hit:13 https://ppa.launchpadcontent.net/ubuntugis/ppa/ubuntu jammy InRelease\n",
            "Fetched 4,261 kB in 21s (202 kB/s)\n",
            "Reading package lists... Done\n"
          ]
        }
      ],
      "source": [
        "# install java\n",
        "!apt-get update\n",
        "!apt-get install openjdk-8-jdk-headless -qq > /dev/null\n",
        "# install spark (change the version number if needed)\n",
        "!wget -q https://downloads.apache.org/spark/spark-3.5.1/spark-3.5.1-bin-hadoop3.tgz\n",
        "# unzip the spark file to the current folder\n",
        "!tar xf spark-3.5.1-bin-hadoop3.tgz"
      ]
    },
    {
      "cell_type": "code",
      "execution_count": null,
      "metadata": {
        "id": "Llc1FhGNQ3U5"
      },
      "outputs": [],
      "source": [
        "# set your spark folder to your system path environment.\n",
        "import os\n",
        "os.environ[\"JAVA_HOME\"] = \"/usr/lib/jvm/java-8-openjdk-amd64\"\n",
        "os.environ[\"SPARK_HOME\"] = \"/content/spark-3.5.1-bin-hadoop3\""
      ]
    },
    {
      "cell_type": "markdown",
      "metadata": {
        "id": "DfAmwnpt1G5p"
      },
      "source": [
        "# Create a SparkSession in Python"
      ]
    },
    {
      "cell_type": "code",
      "execution_count": null,
      "metadata": {
        "colab": {
          "base_uri": "https://localhost:8080/"
        },
        "id": "7ExFt_N8-z2m",
        "outputId": "e15c563d-91f8-4a5f-8578-75a3b2dad919"
      },
      "outputs": [
        {
          "output_type": "stream",
          "name": "stdout",
          "text": [
            "Collecting findspark\n",
            "  Downloading findspark-2.0.1-py2.py3-none-any.whl (4.4 kB)\n",
            "Installing collected packages: findspark\n",
            "Successfully installed findspark-2.0.1\n"
          ]
        }
      ],
      "source": [
        "# start pyspark\n",
        "!pip install findspark\n",
        "import findspark\n",
        "findspark.init()"
      ]
    },
    {
      "cell_type": "code",
      "execution_count": null,
      "metadata": {
        "id": "ZU-oJLNVQl45"
      },
      "outputs": [],
      "source": [
        "import pyspark\n",
        "from pyspark.sql import SparkSession\n",
        "spark = SparkSession.builder.master(\"local\")\\\n",
        "          .appName(\"Introduction to Spark\")\\\n",
        "          .config(\"spark.some.config.option\", \"some-value\")\\\n",
        "          .getOrCreate()"
      ]
    },
    {
      "cell_type": "markdown",
      "metadata": {
        "id": "chdGpJrATCDO"
      },
      "source": [
        "# Example 1: WordCount with Spark DataFrames and Spark RDDs"
      ]
    },
    {
      "cell_type": "code",
      "execution_count": null,
      "metadata": {
        "colab": {
          "base_uri": "https://localhost:8080/"
        },
        "id": "91A6eRPJUl_0",
        "outputId": "5a9bfd6e-f160-40a3-a818-b6633c0800cd"
      },
      "outputs": [
        {
          "output_type": "stream",
          "name": "stdout",
          "text": [
            "Cloning into 'CSC14118'...\n",
            "remote: Enumerating objects: 17, done.\u001b[K\n",
            "remote: Counting objects: 100% (17/17), done.\u001b[K\n",
            "remote: Compressing objects: 100% (15/15), done.\u001b[K\n",
            "remote: Total 17 (delta 1), reused 0 (delta 0), pack-reused 0\u001b[K\n",
            "Receiving objects: 100% (17/17), 818.44 KiB | 4.20 MiB/s, done.\n",
            "Resolving deltas: 100% (1/1), done.\n"
          ]
        }
      ],
      "source": [
        "# Load the data\n",
        "!git clone https://github.com/nnthaofit/CSC14118.git"
      ]
    },
    {
      "cell_type": "markdown",
      "metadata": {
        "id": "kJj_K5siTgAx"
      },
      "source": [
        "### Spark DataFrame-based WordCount"
      ]
    },
    {
      "cell_type": "code",
      "execution_count": null,
      "metadata": {
        "colab": {
          "base_uri": "https://localhost:8080/"
        },
        "id": "NACaHF44TG_L",
        "outputId": "a51d17df-e72d-4801-8480-eb72076b17f7"
      },
      "outputs": [
        {
          "output_type": "stream",
          "name": "stdout",
          "text": [
            "+----------------------------+\n",
            "|value                       |\n",
            "+----------------------------+\n",
            "|ppap                        |\n",
            "|i have a pen                |\n",
            "|i have an apple             |\n",
            "|ah apple pen                |\n",
            "|i have a pen                |\n",
            "|i have a pineapple          |\n",
            "|ah pineapple pen            |\n",
            "|ppap pen pineapple apple pen|\n",
            "+----------------------------+\n",
            "\n",
            "+---------+-----+\n",
            "|     word|count|\n",
            "+---------+-----+\n",
            "|      pen|    6|\n",
            "|     have|    4|\n",
            "|        i|    4|\n",
            "|    apple|    3|\n",
            "|pineapple|    3|\n",
            "|        a|    3|\n",
            "|     ppap|    2|\n",
            "|       ah|    2|\n",
            "|       an|    1|\n",
            "+---------+-----+\n",
            "\n"
          ]
        }
      ],
      "source": [
        "linesDF = spark.read.text(\"CSC14118/ppap.txt\")\n",
        "linesDF.show(linesDF.count(),truncate = False)\n",
        "\n",
        "from pyspark.sql import functions as f\n",
        "wordsDF = linesDF.withColumn(\"word\", f.explode(f.split(f.col(\"value\"), \" \")))\\\n",
        "    .groupBy(\"word\")\\\n",
        "    .count()\\\n",
        "    .sort(\"count\", ascending = False)\n",
        "wordsDF.show()"
      ]
    },
    {
      "cell_type": "markdown",
      "metadata": {
        "id": "82hKvCdcTj6g"
      },
      "source": [
        "###RDD-based WordCount"
      ]
    },
    {
      "cell_type": "code",
      "execution_count": null,
      "metadata": {
        "colab": {
          "base_uri": "https://localhost:8080/"
        },
        "id": "ONOtAnLxSxYK",
        "outputId": "a1876372-d854-4cf8-cdd5-c33a1452b7a2"
      },
      "outputs": [
        {
          "output_type": "execute_result",
          "data": {
            "text/plain": [
              "[('pen', 6),\n",
              " ('i', 4),\n",
              " ('have', 4),\n",
              " ('a', 3),\n",
              " ('apple', 3),\n",
              " ('pineapple', 3),\n",
              " ('ppap', 2),\n",
              " ('ah', 2),\n",
              " ('an', 1)]"
            ]
          },
          "metadata": {},
          "execution_count": 14
        }
      ],
      "source": [
        "linesRdd = spark.sparkContext.textFile(\"CSC14118/ppap.txt\")\n",
        "wordsRdd = linesRdd.flatMap(lambda line: line.split(\" \")) \\\n",
        "    .map(lambda word: (word, 1)) \\\n",
        "    .reduceByKey(lambda a, b: a + b)\\\n",
        "    .sortBy(lambda pair:-1*pair[1])\n",
        "wordsRdd.collect()"
      ]
    },
    {
      "cell_type": "markdown",
      "source": [
        "# Exercise 1: Data query with Spark DataFrame"
      ],
      "metadata": {
        "id": "eskNBM_J66UP"
      }
    },
    {
      "cell_type": "markdown",
      "source": [
        "###0. Load the data file: movies.json"
      ],
      "metadata": {
        "id": "EbUxY_c-69xG"
      }
    },
    {
      "cell_type": "code",
      "source": [
        "# clone the example data files from GitHub to Drive\n",
        "!git clone https://github.com/nnthaofit/CSC14118.git"
      ],
      "metadata": {
        "id": "T5YNLLU6656Z"
      },
      "execution_count": null,
      "outputs": []
    },
    {
      "cell_type": "code",
      "source": [
        "# read the data file and show the first 10 rows\n",
        "df = spark.read.json(\"CSC14118/movies.json\")\n",
        "df.show(10, truncate=False)"
      ],
      "metadata": {
        "id": "CvOTxw3KjrBn",
        "colab": {
          "base_uri": "https://localhost:8080/"
        },
        "outputId": "6709d419-051c-4319-a905-385f10b8ce04"
      },
      "execution_count": null,
      "outputs": [
        {
          "output_type": "stream",
          "name": "stdout",
          "text": [
            "+-------------+--------------------+-------------------------------------------+----+\n",
            "|cast         |genres              |title                                      |year|\n",
            "+-------------+--------------------+-------------------------------------------+----+\n",
            "|[]           |[]                  |After Dark in Central Park                 |1900|\n",
            "|[]           |[]                  |Boarding School Girls' Pajama Parade       |1900|\n",
            "|[]           |[]                  |Buffalo Bill's Wild West Parad             |1900|\n",
            "|[]           |[]                  |Caught                                     |1900|\n",
            "|[]           |[]                  |Clowns Spinning Hats                       |1900|\n",
            "|[]           |[Short, Documentary]|Capture of Boer Battery by British         |1900|\n",
            "|[]           |[]                  |The Enchanted Drawing                      |1900|\n",
            "|[Paul Boyton]|[]                  |Feeding Sea Lions                          |1900|\n",
            "|[]           |[Comedy]            |How to Make a Fat Wife Out of Two Lean Ones|1900|\n",
            "|[]           |[]                  |New Life Rescue                            |1900|\n",
            "+-------------+--------------------+-------------------------------------------+----+\n",
            "only showing top 10 rows\n",
            "\n"
          ]
        }
      ]
    },
    {
      "cell_type": "markdown",
      "source": [
        "### 1a. Show the schema of DataFrame that stores the movies dataset."
      ],
      "metadata": {
        "id": "HNfJKss_7cG1"
      }
    },
    {
      "cell_type": "code",
      "source": [],
      "metadata": {
        "id": "jMSU0lrg7bXA"
      },
      "execution_count": null,
      "outputs": []
    },
    {
      "cell_type": "markdown",
      "source": [
        "### 1b. Show the number of distinct films in the dataset"
      ],
      "metadata": {
        "id": "alyy1VZT7rve"
      }
    },
    {
      "cell_type": "code",
      "source": [],
      "metadata": {
        "id": "n_Y_ZCPs7r71"
      },
      "execution_count": null,
      "outputs": []
    },
    {
      "cell_type": "markdown",
      "source": [
        "### 2. Count the number of movies released during the years 2012 and 2015 (included)"
      ],
      "metadata": {
        "id": "lbRNx-QU73ZN"
      }
    },
    {
      "cell_type": "code",
      "source": [],
      "metadata": {
        "id": "8X0TI_Z173gL"
      },
      "execution_count": null,
      "outputs": []
    },
    {
      "cell_type": "markdown",
      "source": [
        "### 3. Show the year in which the number of movies released is highest. One highest year is enough"
      ],
      "metadata": {
        "id": "Wm7NfqXp76Cy"
      }
    },
    {
      "cell_type": "code",
      "source": [],
      "metadata": {
        "id": "k_A--MGR76NJ"
      },
      "execution_count": null,
      "outputs": []
    },
    {
      "cell_type": "markdown",
      "source": [
        "### 4. Show the list of movies such that for each film, the number of actors/actresses is at least five, and the number of genres it belongs to is at most two genres."
      ],
      "metadata": {
        "id": "EpfIvw-h8Eep"
      }
    },
    {
      "cell_type": "code",
      "source": [],
      "metadata": {
        "id": "zC1mHKoV8EoF"
      },
      "execution_count": null,
      "outputs": []
    },
    {
      "cell_type": "markdown",
      "source": [
        "### 5. Show the **movies** whose names are longest"
      ],
      "metadata": {
        "id": "TG1zzyVb8ND9"
      }
    },
    {
      "cell_type": "code",
      "source": [],
      "metadata": {
        "id": "ZnS7X_mU8NNw"
      },
      "execution_count": null,
      "outputs": []
    },
    {
      "cell_type": "markdown",
      "source": [
        "### 6. Show the movies whose name contains the word “fighting” (case-insensitive)."
      ],
      "metadata": {
        "id": "h-UJvT_I8QHF"
      }
    },
    {
      "cell_type": "code",
      "source": [],
      "metadata": {
        "id": "QUbuwL1G8QPi"
      },
      "execution_count": null,
      "outputs": []
    },
    {
      "cell_type": "markdown",
      "source": [
        "### 7. Show the list of distinct genres appearing in the dataset"
      ],
      "metadata": {
        "id": "sZwOdpkG8Wkl"
      }
    },
    {
      "cell_type": "code",
      "source": [],
      "metadata": {
        "id": "zT7WzGIU8Wwm"
      },
      "execution_count": null,
      "outputs": []
    },
    {
      "cell_type": "markdown",
      "source": [
        "### 8. List all movies in which the actor Harrison Ford has participated."
      ],
      "metadata": {
        "id": "zIS1IRFP8ZVt"
      }
    },
    {
      "cell_type": "code",
      "source": [],
      "metadata": {
        "id": "aJA2qZEU8ZeV"
      },
      "execution_count": null,
      "outputs": []
    },
    {
      "cell_type": "markdown",
      "source": [
        "### 9. List all movies in which the actors/actresses whose names include the word “Lewis“ (case-insensitive) have participated."
      ],
      "metadata": {
        "id": "Gj6gxLvh8cXW"
      }
    },
    {
      "cell_type": "code",
      "source": [],
      "metadata": {
        "id": "neX4A5Iu8ce2"
      },
      "execution_count": null,
      "outputs": []
    },
    {
      "cell_type": "markdown",
      "source": [
        "### 10. Show top five actors/actresses that have participated in most movies."
      ],
      "metadata": {
        "id": "s_EhHiV38fXV"
      }
    },
    {
      "cell_type": "code",
      "source": [],
      "metadata": {
        "id": "jBUtydXs8fgR"
      },
      "execution_count": null,
      "outputs": []
    },
    {
      "cell_type": "markdown",
      "source": [],
      "metadata": {
        "id": "VDyXCR0f8mPW"
      }
    },
    {
      "cell_type": "code",
      "source": [],
      "metadata": {
        "id": "Ny3QEGyK8mYt"
      },
      "execution_count": null,
      "outputs": []
    }
  ],
  "metadata": {
    "colab": {
      "provenance": [],
      "include_colab_link": true
    },
    "kernelspec": {
      "display_name": "Python 3",
      "name": "python3"
    },
    "language_info": {
      "name": "python"
    }
  },
  "nbformat": 4,
  "nbformat_minor": 0
}